from utils import unzip_data


unzip_data()
