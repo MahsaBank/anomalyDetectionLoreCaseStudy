{
 "cells": [
  {
   "cell_type": "code",
   "execution_count": null,
   "metadata": {},
   "outputs": [],
   "source": [
    "from streaming_pipeline import StreamingSentimentMonitor\n",
    "import time\n",
    "\n",
    "monitor = StreamingSentimentMonitor()\n",
    "\n",
    "messages = [\n",
    "    (\"I love this story! It's amazing.\", {\"timestamp\": time.time(), \"user_id\": \"u1\"}),\n",
    "    (\"Still loving it!\", {\"timestamp\": time.time(), \"user_id\": \"u1\"}),\n",
    "    (\"This is fine.\", {\"timestamp\": time.time(), \"user_id\": \"u1\"}),\n",
    "    (\"I hate this now.\", {\"timestamp\": time.time(), \"user_id\": \"u1\"}),\n",
    "    (\"Worst bot ever.\", {\"timestamp\": time.time(), \"user_id\": \"u1\"}),\n",
    "]\n",
    "\n",
    "for msg, meta in messages:\n",
    "    monitor.process(msg, meta)\n",
    "    time.sleep(1)"
   ]
  }
 ],
 "metadata": {
  "kernelspec": {
   "display_name": "Python 3",
   "language": "python",
   "name": "python3"
  },
  "language_info": {
   "name": "python",
   "version": "3.x"
  }
 },
 "nbformat": 4,
 "nbformat_minor": 2
}

