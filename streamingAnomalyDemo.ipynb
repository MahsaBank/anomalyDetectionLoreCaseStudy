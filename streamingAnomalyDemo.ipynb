{
 "cells": [
  {
   "cell_type": "code",
   "execution_count": null,
   "metadata": {},
   "outputs": [],
   "source": [
    "# Demo notebook to call streaming pipeline\n",
    "from streaming_pipeline import StreamingSentimentMonitor\n",
    "import time\n\n",
    "messages = [\n",
    "    (\"This is incredible!\", {\"timestamp\": time.time(), \"user_id\": \"u1\"}),\n",
    "    (\"I hate this now.\", {\"timestamp\": time.time(), \"user_id\": \"u1\"}),\n",
    "]\n\n",
    "monitor = StreamingSentimentMonitor()\n",
    "for msg, meta in messages:\n",
    "    monitor.process(msg, meta)"
   ]
  }
 ],
 "metadata": {},
 "nbformat": 4,
 "nbformat_minor": 2
}

